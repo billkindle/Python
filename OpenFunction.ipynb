{
 "cells": [
  {
   "cell_type": "markdown",
   "metadata": {},
   "source": [
    "# The open Function\n",
    "\n",
    "open(file_name, mode) opens the given filename (from current directory) in the specified mode. \n",
    "\n",
    "There are three basic modes:\n",
    "\n",
    "- 'w' - Write mode, wipes existing file content\n",
    "- 'r' - Read mode, read-only access to the file content\n",
    "- 'a' - Append mode, writes to the end of the file (**EoF**)\n",
    "\n",
    "\n"
   ]
  },
  {
   "cell_type": "code",
   "execution_count": 1,
   "metadata": {},
   "outputs": [],
   "source": [
    "with open('test.txt', 'w') as write_file:\n",
    "    write_file.write(\"Hello, I'm a real file!\")\n",
    "# This code creates a new file and writes data to it.    "
   ]
  },
  {
   "cell_type": "code",
   "execution_count": 4,
   "metadata": {},
   "outputs": [
    {
     "name": "stdout",
     "output_type": "stream",
     "text": [
      "Hello, I'm a real file!\n"
     ]
    }
   ],
   "source": [
    "with open('test.txt', 'r') as read_file:\n",
    "    print(read_file.read())\n",
    "    # this code reads the file created and prints to screen."
   ]
  },
  {
   "cell_type": "code",
   "execution_count": 7,
   "metadata": {},
   "outputs": [],
   "source": [
    "with open('test.txt', 'a') as write_file:\n",
    "    write_file.write(\"\\nHere's some more text\")\n",
    "    # this code appends to the file created, and creates a new line"
   ]
  },
  {
   "cell_type": "code",
   "execution_count": 6,
   "metadata": {},
   "outputs": [
    {
     "name": "stdout",
     "output_type": "stream",
     "text": [
      "Hello, I'm a real file!\n",
      "Here's some more text\n"
     ]
    }
   ],
   "source": [
    "with open('test.txt', 'r') as read_file:\n",
    "    print(read_file.read())"
   ]
  },
  {
   "cell_type": "code",
   "execution_count": 3,
   "metadata": {},
   "outputs": [],
   "source": [
    "# Now close the open file, always close the open files\n",
    "with open('test.txt', 'w') as write_file:\n",
    "    write_file.close()"
   ]
  }
 ],
 "metadata": {
  "kernelspec": {
   "display_name": "Python 3",
   "language": "python",
   "name": "python3"
  },
  "language_info": {
   "codemirror_mode": {
    "name": "ipython",
    "version": 3
   },
   "file_extension": ".py",
   "mimetype": "text/x-python",
   "name": "python",
   "nbconvert_exporter": "python",
   "pygments_lexer": "ipython3",
   "version": "3.8.3"
  }
 },
 "nbformat": 4,
 "nbformat_minor": 4
}
