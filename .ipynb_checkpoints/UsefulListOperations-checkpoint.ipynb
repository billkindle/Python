{
 "cells": [
  {
   "cell_type": "code",
   "execution_count": 7,
   "metadata": {},
   "outputs": [
    {
     "data": {
      "text/plain": [
       "['Toyota Camry',\n",
       " 'Honda Accord',\n",
       " 'Honda Civic',\n",
       " 'Toyota Corolla',\n",
       " 'Hyundai Elantra',\n",
       " 'Nissan Altima',\n",
       " 'Nissan Sentra',\n",
       " 'Kia Optima',\n",
       " 'Kia Soul',\n",
       " 'Hennessey Venom GT',\n",
       " 'Bugatti Veyron',\n",
       " 'Koenigsegg Agera R']"
      ]
     },
     "execution_count": 7,
     "metadata": {},
     "output_type": "execute_result"
    }
   ],
   "source": [
    "complete_cars_list = ['Toyota Camry',\n",
    " 'Honda Accord',\n",
    " 'Honda Civic',\n",
    " 'Toyota Corolla',\n",
    " 'Hyundai Elantra',\n",
    " 'Nissan Altima',\n",
    " 'Nissan Sentra',\n",
    " 'Kia Optima',\n",
    " 'Kia Soul',\n",
    " 'Hennessey Venom GT',\n",
    " 'Bugatti Veyron',\n",
    " 'Koenigsegg Agera R']\n",
    "\n",
    "complete_cars_list"
   ]
  },
  {
   "cell_type": "code",
   "execution_count": 8,
   "metadata": {},
   "outputs": [
    {
     "data": {
      "text/plain": [
       "['Toyota Camry',\n",
       " 'Honda Accord',\n",
       " 'Honda Civic',\n",
       " 'Toyota Corolla',\n",
       " 'Hyundai Elantra',\n",
       " 'Nissan Altima',\n",
       " 'Nissan Sentra',\n",
       " 'Kia Optima',\n",
       " 'Kia Soul',\n",
       " 'Hennessey Venom GT',\n",
       " 'Bugatti Veyron',\n",
       " 'Koenigsegg Agera R',\n",
       " 'Chevrolet Cruze',\n",
       " 'Chevrolet Malibu']"
      ]
     },
     "execution_count": 8,
     "metadata": {},
     "output_type": "execute_result"
    }
   ],
   "source": [
    "# += appends to end of list\n",
    "complete_cars_list += ['Chevrolet Cruze', 'Chevrolet Malibu']\n",
    "\n",
    "complete_cars_list"
   ]
  },
  {
   "cell_type": "code",
   "execution_count": 9,
   "metadata": {},
   "outputs": [
    {
     "data": {
      "text/plain": [
       "['Bugatti Veyron',\n",
       " 'Chevrolet Cruze',\n",
       " 'Chevrolet Malibu',\n",
       " 'Hennessey Venom GT',\n",
       " 'Honda Accord',\n",
       " 'Honda Civic',\n",
       " 'Hyundai Elantra',\n",
       " 'Kia Optima',\n",
       " 'Kia Soul',\n",
       " 'Koenigsegg Agera R',\n",
       " 'Nissan Altima',\n",
       " 'Nissan Sentra',\n",
       " 'Toyota Camry',\n",
       " 'Toyota Corolla']"
      ]
     },
     "execution_count": 9,
     "metadata": {},
     "output_type": "execute_result"
    }
   ],
   "source": [
    "# sorting method, default is ascending order, alphabetical for strings\n",
    "complete_cars_list.sort()\n",
    "\n",
    "complete_cars_list"
   ]
  },
  {
   "cell_type": "code",
   "execution_count": 10,
   "metadata": {},
   "outputs": [
    {
     "data": {
      "text/plain": [
       "['Toyota Corolla',\n",
       " 'Toyota Camry',\n",
       " 'Nissan Sentra',\n",
       " 'Nissan Altima',\n",
       " 'Koenigsegg Agera R',\n",
       " 'Kia Soul',\n",
       " 'Kia Optima',\n",
       " 'Hyundai Elantra',\n",
       " 'Honda Civic',\n",
       " 'Honda Accord',\n",
       " 'Hennessey Venom GT',\n",
       " 'Chevrolet Malibu',\n",
       " 'Chevrolet Cruze',\n",
       " 'Bugatti Veyron']"
      ]
     },
     "execution_count": 10,
     "metadata": {},
     "output_type": "execute_result"
    }
   ],
   "source": [
    "# reverse method\n",
    "complete_cars_list.reverse()\n",
    "\n",
    "complete_cars_list"
   ]
  },
  {
   "cell_type": "code",
   "execution_count": 11,
   "metadata": {},
   "outputs": [
    {
     "data": {
      "text/plain": [
       "['Toyota Corolla',\n",
       " 'Toyota Camry',\n",
       " 'Nissan Sentra',\n",
       " 'Nissan Altima',\n",
       " 'Koenigsegg Agera R',\n",
       " 'Kia Soul',\n",
       " 'Kia Optima',\n",
       " 'Hyundai Elantra',\n",
       " 'Honda Civic',\n",
       " 'Honda Accord',\n",
       " 'Hennessey Venom GT',\n",
       " 'Chevrolet Malibu',\n",
       " 'Chevrolet Cruze']"
      ]
     },
     "execution_count": 11,
     "metadata": {},
     "output_type": "execute_result"
    }
   ],
   "source": [
    "# pop method removes last element in the list\n",
    "complete_cars_list.pop()\n",
    "\n",
    "complete_cars_list"
   ]
  },
  {
   "cell_type": "code",
   "execution_count": 12,
   "metadata": {},
   "outputs": [
    {
     "data": {
      "text/plain": [
       "['Toyota Corolla',\n",
       " 'Toyota Camry',\n",
       " 'Nissan Sentra',\n",
       " 'Nissan Altima',\n",
       " 'Koenigsegg Agera R',\n",
       " 'Kia Soul',\n",
       " 'Kia Optima',\n",
       " 'Hyundai Elantra',\n",
       " 'Honda Civic',\n",
       " 'Honda Accord',\n",
       " 'Hennessey Venom GT',\n",
       " 'Chevrolet Malibu']"
      ]
     },
     "execution_count": 12,
     "metadata": {},
     "output_type": "execute_result"
    }
   ],
   "source": [
    "complete_cars_list.pop()\n",
    "\n",
    "complete_cars_list"
   ]
  },
  {
   "cell_type": "code",
   "execution_count": 13,
   "metadata": {},
   "outputs": [
    {
     "data": {
      "text/plain": [
       "['Toyota Corolla',\n",
       " 'Toyota Camry',\n",
       " 'Nissan Sentra',\n",
       " 'Nissan Altima',\n",
       " 'Koenigsegg Agera R',\n",
       " 'Kia Soul',\n",
       " 'Kia Optima',\n",
       " 'Hyundai Elantra',\n",
       " 'Honda Civic',\n",
       " 'Honda Accord',\n",
       " 'Hennessey Venom GT',\n",
       " 'Chevrolet Malibu',\n",
       " 'Nissan Altima']"
      ]
     },
     "execution_count": 13,
     "metadata": {},
     "output_type": "execute_result"
    }
   ],
   "source": [
    "# Duplicate value \n",
    "complete_cars_list.append('Nissan Altima')\n",
    "\n",
    "complete_cars_list"
   ]
  },
  {
   "cell_type": "code",
   "execution_count": 14,
   "metadata": {},
   "outputs": [
    {
     "data": {
      "text/plain": [
       "0"
      ]
     },
     "execution_count": 14,
     "metadata": {},
     "output_type": "execute_result"
    }
   ],
   "source": [
    "complete_cars_list.count('honda Civic')"
   ]
  },
  {
   "cell_type": "code",
   "execution_count": 15,
   "metadata": {},
   "outputs": [
    {
     "data": {
      "text/plain": [
       "1"
      ]
     },
     "execution_count": 15,
     "metadata": {},
     "output_type": "execute_result"
    }
   ],
   "source": [
    "complete_cars_list.count('Honda Civic')"
   ]
  },
  {
   "cell_type": "code",
   "execution_count": 16,
   "metadata": {},
   "outputs": [
    {
     "data": {
      "text/plain": [
       "2"
      ]
     },
     "execution_count": 16,
     "metadata": {},
     "output_type": "execute_result"
    }
   ],
   "source": [
    "complete_cars_list.count('Nissan Altima')"
   ]
  },
  {
   "cell_type": "code",
   "execution_count": 17,
   "metadata": {},
   "outputs": [
    {
     "data": {
      "text/plain": [
       "{'Chevrolet Malibu',\n",
       " 'Hennessey Venom GT',\n",
       " 'Honda Accord',\n",
       " 'Honda Civic',\n",
       " 'Hyundai Elantra',\n",
       " 'Kia Optima',\n",
       " 'Kia Soul',\n",
       " 'Koenigsegg Agera R',\n",
       " 'Nissan Altima',\n",
       " 'Nissan Sentra',\n",
       " 'Toyota Camry',\n",
       " 'Toyota Corolla'}"
      ]
     },
     "execution_count": 17,
     "metadata": {},
     "output_type": "execute_result"
    }
   ],
   "source": [
    "# lists and sets are different. Sets remove duplicate entries and use curly braces.\n",
    "set(complete_cars_list)"
   ]
  },
  {
   "cell_type": "code",
   "execution_count": 19,
   "metadata": {},
   "outputs": [
    {
     "data": {
      "text/plain": [
       "['Toyota Camry',\n",
       " 'Honda Accord',\n",
       " 'Honda Civic',\n",
       " 'Toyota Corolla',\n",
       " 'Hyundai Elantra',\n",
       " 'Nissan Altima',\n",
       " 'Nissan Sentra',\n",
       " 'Kia Optima',\n",
       " 'Kia Soul']"
      ]
     },
     "execution_count": 19,
     "metadata": {},
     "output_type": "execute_result"
    }
   ],
   "source": [
    "cars_list = ['Toyota Camry',\n",
    " 'Honda Accord',\n",
    " 'Honda Civic',\n",
    " 'Toyota Corolla',\n",
    " 'Hyundai Elantra',\n",
    " 'Nissan Altima',\n",
    " 'Nissan Sentra',\n",
    " 'Kia Optima',\n",
    " 'Kia Soul']\n",
    "\n",
    "cars_list"
   ]
  },
  {
   "cell_type": "code",
   "execution_count": 20,
   "metadata": {},
   "outputs": [
    {
     "name": "stdout",
     "output_type": "stream",
     "text": [
      "['Toyota Camry', 'Honda Accord', 'Honda Civic', 'Toyota Corolla', 'Hyundai Elantra', 'Nissan Altima', 'Nissan Sentra', 'Kia Optima', 'Kia Soul']\n"
     ]
    }
   ],
   "source": [
    "print(cars_list)"
   ]
  },
  {
   "cell_type": "code",
   "execution_count": 21,
   "metadata": {},
   "outputs": [],
   "source": [
    "cars_list.clear()"
   ]
  },
  {
   "cell_type": "code",
   "execution_count": 22,
   "metadata": {},
   "outputs": [
    {
     "data": {
      "text/plain": [
       "[]"
      ]
     },
     "execution_count": 22,
     "metadata": {},
     "output_type": "execute_result"
    }
   ],
   "source": [
    "cars_list"
   ]
  },
  {
   "cell_type": "code",
   "execution_count": 23,
   "metadata": {},
   "outputs": [
    {
     "data": {
      "text/plain": [
       "['Toyota Corolla',\n",
       " 'Toyota Camry',\n",
       " 'Nissan Sentra',\n",
       " 'Nissan Altima',\n",
       " 'Koenigsegg Agera R',\n",
       " 'Kia Soul',\n",
       " 'Kia Optima',\n",
       " 'Hyundai Elantra',\n",
       " 'Honda Civic',\n",
       " 'Honda Accord',\n",
       " 'Hennessey Venom GT',\n",
       " 'Chevrolet Malibu',\n",
       " 'Nissan Altima']"
      ]
     },
     "execution_count": 23,
     "metadata": {},
     "output_type": "execute_result"
    }
   ],
   "source": [
    "complete_cars_list"
   ]
  },
  {
   "cell_type": "code",
   "execution_count": 24,
   "metadata": {},
   "outputs": [],
   "source": [
    "new_cars_list = complete_cars_list.copy() # Deep copy, new copy in memory. Copy is entirely separate."
   ]
  },
  {
   "cell_type": "code",
   "execution_count": 25,
   "metadata": {},
   "outputs": [],
   "source": [
    "del complete_cars_list"
   ]
  },
  {
   "cell_type": "code",
   "execution_count": 26,
   "metadata": {},
   "outputs": [
    {
     "ename": "NameError",
     "evalue": "name 'complete_cars_list' is not defined",
     "output_type": "error",
     "traceback": [
      "\u001b[1;31m---------------------------------------------------------------------------\u001b[0m",
      "\u001b[1;31mNameError\u001b[0m                                 Traceback (most recent call last)",
      "\u001b[1;32m<ipython-input-26-686e73c6e8ec>\u001b[0m in \u001b[0;36m<module>\u001b[1;34m\u001b[0m\n\u001b[1;32m----> 1\u001b[1;33m \u001b[0mcomplete_cars_list\u001b[0m\u001b[1;33m\u001b[0m\u001b[1;33m\u001b[0m\u001b[0m\n\u001b[0m",
      "\u001b[1;31mNameError\u001b[0m: name 'complete_cars_list' is not defined"
     ]
    }
   ],
   "source": [
    "complete_cars_list"
   ]
  },
  {
   "cell_type": "code",
   "execution_count": 27,
   "metadata": {},
   "outputs": [
    {
     "data": {
      "text/plain": [
       "['Toyota Corolla',\n",
       " 'Toyota Camry',\n",
       " 'Nissan Sentra',\n",
       " 'Nissan Altima',\n",
       " 'Koenigsegg Agera R',\n",
       " 'Kia Soul',\n",
       " 'Kia Optima',\n",
       " 'Hyundai Elantra',\n",
       " 'Honda Civic',\n",
       " 'Honda Accord',\n",
       " 'Hennessey Venom GT',\n",
       " 'Chevrolet Malibu',\n",
       " 'Nissan Altima']"
      ]
     },
     "execution_count": 27,
     "metadata": {},
     "output_type": "execute_result"
    }
   ],
   "source": [
    "new_cars_list"
   ]
  },
  {
   "cell_type": "code",
   "execution_count": 28,
   "metadata": {},
   "outputs": [
    {
     "data": {
      "text/plain": [
       "['Toyota Corolla',\n",
       " 'Toyota Camry',\n",
       " 'Nissan Sentra',\n",
       " 'Nissan Altima',\n",
       " 'Koenigsegg Agera R',\n",
       " 'Kia Soul',\n",
       " 'Kia Optima',\n",
       " 'Hyundai Elantra',\n",
       " 'Honda Civic',\n",
       " 'Honda Accord',\n",
       " 'Hennessey Venom GT',\n",
       " 'Chevrolet Malibu',\n",
       " 'Nissan Altima']"
      ]
     },
     "execution_count": 28,
     "metadata": {},
     "output_type": "execute_result"
    }
   ],
   "source": [
    "# Shallow copy, both lists can change.\n",
    "another_cars_list = new_cars_list\n",
    "\n",
    "another_cars_list"
   ]
  },
  {
   "cell_type": "code",
   "execution_count": 29,
   "metadata": {},
   "outputs": [],
   "source": [
    "another_cars_list.remove('Hennessey Venom GT')"
   ]
  },
  {
   "cell_type": "code",
   "execution_count": 30,
   "metadata": {},
   "outputs": [
    {
     "data": {
      "text/plain": [
       "['Toyota Corolla',\n",
       " 'Toyota Camry',\n",
       " 'Nissan Sentra',\n",
       " 'Nissan Altima',\n",
       " 'Koenigsegg Agera R',\n",
       " 'Kia Soul',\n",
       " 'Kia Optima',\n",
       " 'Hyundai Elantra',\n",
       " 'Honda Civic',\n",
       " 'Honda Accord',\n",
       " 'Chevrolet Malibu',\n",
       " 'Nissan Altima']"
      ]
     },
     "execution_count": 30,
     "metadata": {},
     "output_type": "execute_result"
    }
   ],
   "source": [
    "another_cars_list"
   ]
  },
  {
   "cell_type": "code",
   "execution_count": 31,
   "metadata": {},
   "outputs": [
    {
     "data": {
      "text/plain": [
       "['Toyota Corolla',\n",
       " 'Toyota Camry',\n",
       " 'Nissan Sentra',\n",
       " 'Nissan Altima',\n",
       " 'Koenigsegg Agera R',\n",
       " 'Kia Soul',\n",
       " 'Kia Optima',\n",
       " 'Hyundai Elantra',\n",
       " 'Honda Civic',\n",
       " 'Honda Accord',\n",
       " 'Chevrolet Malibu',\n",
       " 'Nissan Altima']"
      ]
     },
     "execution_count": 31,
     "metadata": {},
     "output_type": "execute_result"
    }
   ],
   "source": [
    "new_cars_list # Shallow copy is also missing Hennessey Venom GT"
   ]
  },
  {
   "cell_type": "code",
   "execution_count": 32,
   "metadata": {},
   "outputs": [
    {
     "data": {
      "text/plain": [
       "['Toyota Corolla',\n",
       " 'Toyota Camry',\n",
       " 'Nissan Altima',\n",
       " 'Koenigsegg Agera R',\n",
       " 'Kia Soul',\n",
       " 'Kia Optima',\n",
       " 'Hyundai Elantra',\n",
       " 'Honda Civic',\n",
       " 'Honda Accord',\n",
       " 'Chevrolet Malibu',\n",
       " 'Nissan Altima']"
      ]
     },
     "execution_count": 32,
     "metadata": {},
     "output_type": "execute_result"
    }
   ],
   "source": [
    "new_cars_list.remove('Nissan Sentra')\n",
    "\n",
    "new_cars_list"
   ]
  },
  {
   "cell_type": "code",
   "execution_count": 33,
   "metadata": {},
   "outputs": [
    {
     "data": {
      "text/plain": [
       "['Toyota Corolla',\n",
       " 'Toyota Camry',\n",
       " 'Nissan Altima',\n",
       " 'Koenigsegg Agera R',\n",
       " 'Kia Soul',\n",
       " 'Kia Optima',\n",
       " 'Hyundai Elantra',\n",
       " 'Honda Civic',\n",
       " 'Honda Accord',\n",
       " 'Chevrolet Malibu',\n",
       " 'Nissan Altima']"
      ]
     },
     "execution_count": 33,
     "metadata": {},
     "output_type": "execute_result"
    }
   ],
   "source": [
    "another_cars_list # Shallow copy now missing Nissan Sentra"
   ]
  },
  {
   "cell_type": "markdown",
   "metadata": {},
   "source": [
    "Important to know what kind of copy is needed."
   ]
  }
 ],
 "metadata": {
  "kernelspec": {
   "display_name": "Python 3",
   "language": "python",
   "name": "python3"
  },
  "language_info": {
   "codemirror_mode": {
    "name": "ipython",
    "version": 3
   },
   "file_extension": ".py",
   "mimetype": "text/x-python",
   "name": "python",
   "nbconvert_exporter": "python",
   "pygments_lexer": "ipython3",
   "version": "3.8.3"
  }
 },
 "nbformat": 4,
 "nbformat_minor": 4
}
